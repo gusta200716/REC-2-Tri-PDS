{
  "nbformat": 4,
  "nbformat_minor": 0,
  "metadata": {
    "colab": {
      "provenance": []
    },
    "kernelspec": {
      "name": "python3",
      "display_name": "Python 3"
    },
    "language_info": {
      "name": "python"
    }
  },
  "cells": [
    {
      "cell_type": "code",
      "source": [
        "class Funcionario:\n",
        "    def __init__(self, nome):\n",
        "        self.nome = nome\n",
        "\n",
        "    def trabalhar(self):\n",
        "        raise NotImplementedError(\"Método deve ser implementado nas classes filhas\")\n",
        "\n",
        "class Professor(Funcionario):\n",
        "    def trabalhar(self):\n",
        "        return f\"O professor {self.nome} está dando aula.\"\n",
        "\n",
        "class Cozinheiro(Funcionario):\n",
        "    def trabalhar(self):\n",
        "        return f\"O cozinheiro {self.nome} está preparando uma refeição.\"\n",
        "\n",
        "\n",
        "professor1 = Professor(\"Carlos\")\n",
        "cozinheiro1 = Cozinheiro(\"João\")\n",
        "\n",
        "print(professor1.trabalhar())\n",
        "print(cozinheiro1.trabalhar())\n",
        "print()\n",
        "\n",
        "class Animal:\n",
        "    def __init__(self, nome):\n",
        "        self.nome = nome\n",
        "\n",
        "    def emitir_som(self):\n",
        "        raise NotImplementedError(\"Método deve ser implementado nas classes filhas\")\n",
        "\n",
        "class Cachorro(Animal):\n",
        "    def emitir_som(self):\n",
        "        return \"Thor faz au au!\"\n",
        "\n",
        "class Gato(Animal):\n",
        "    def emitir_som(self):\n",
        "        return \"Mingau faz miau!\"\n",
        "\n",
        "class Passaro(Animal):\n",
        "    def emitir_som(self):\n",
        "        return \"Piuí faz piu piu!\"\n",
        "\n",
        "class Porco(Animal):\n",
        "    def emitir_som(self):\n",
        "        return \"Fofinho faz oinc oinc!\"\n",
        "\n",
        "cachorro1 = Cachorro(\"Thor\")\n",
        "gato1 = Gato(\"Mingau\")\n",
        "passaro1 = Passaro(\"Piuí\")\n",
        "porco1 = Porco(\"Fofinho\")\n",
        "\n",
        "print(cachorro1.emitir_som())\n",
        "print(gato1.emitir_som())\n",
        "print(passaro1.emitir_som())\n",
        "print(porco1.emitir_som())\n",
        "print()\n",
        "\n",
        "class Veiculo:\n",
        "    def __init__(self, marca):\n",
        "        self.marca = marca\n",
        "\n",
        "    def acelerar(self):\n",
        "        raise NotImplementedError(\"Método deve ser implementado nas classes filhas\")\n",
        "\n",
        "class Caminhao(Veiculo):\n",
        "    def acelerar(self):\n",
        "        return \"Caminhão está acelerando.\"\n",
        "\n",
        "class Carro(Veiculo):\n",
        "    def acelerar(self):\n",
        "        return \"Carro está acelerando.\"\n",
        "\n",
        "class Moto(Veiculo):\n",
        "    def acelerar(self):\n",
        "        return \"Moto está acelerando.\"\n",
        "\n",
        "caminhao1 = Caminhao(\"Mercedes\")\n",
        "carro1 = Carro(\"Ferrari\")\n",
        "moto1 = Moto(\"BMW\")\n",
        "\n",
        "print(caminhao1.acelerar())\n",
        "print(carro1.acelerar())\n",
        "print(moto1.acelerar())\n",
        "print()\n",
        "\n",
        "\n"
      ],
      "metadata": {
        "colab": {
          "base_uri": "https://localhost:8080/"
        },
        "id": "Kr8alWGDRcWd",
        "outputId": "c00cda85-b0f9-40cf-f693-fb61c21f36e9"
      },
      "execution_count": 26,
      "outputs": [
        {
          "output_type": "stream",
          "name": "stdout",
          "text": [
            "O professor Carlos está dando aula.\n",
            "O cozinheiro João está preparando uma refeição.\n",
            "\n",
            "Thor faz au au!\n",
            "Mingau faz miau!\n",
            "Piuí faz piu piu!\n",
            "Fofinho faz oinc oinc!\n",
            "\n",
            "Caminhão está acelerando.\n",
            "Carro está acelerando.\n",
            "Moto está acelerando.\n",
            "\n"
          ]
        }
      ]
    }
  ]
}