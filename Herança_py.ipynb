{
  "nbformat": 4,
  "nbformat_minor": 0,
  "metadata": {
    "colab": {
      "provenance": []
    },
    "kernelspec": {
      "name": "python3",
      "display_name": "Python 3"
    },
    "language_info": {
      "name": "python"
    }
  },
  "cells": [
    {
      "cell_type": "code",
      "source": [
        "class Funcionario:\n",
        "    def __init__(self, nome, salario):\n",
        "        self.nome = nome\n",
        "        self.salario = salario\n",
        "\n",
        "    def aumentar_salario(self, percentual):\n",
        "        aumento = self.salario * percentual / 100\n",
        "        self.salario += aumento\n",
        "\n",
        "class Gerente(Funcionario):\n",
        "    def __init__(self, nome, salario, departamento):\n",
        "        super().__init__(nome, salario)\n",
        "        self.departamento = departamento\n",
        "\n",
        "    def relatorio(self):\n",
        "        print(f\"Gerente {self.nome} trabalha no departamento {self.departamento} e tem salário de R${self.salario:.2f}\")\n",
        "\n",
        "\n",
        "funcionario1 = Funcionario(\"Gabriel\", 3000.0)\n",
        "print(f\"Funcionário {funcionario1.nome} tem salário inicial de R${funcionario1.salario:.2f}\")\n",
        "funcionario1.aumentar_salario(10)\n",
        "print(f\"Após aumento, o salário de {funcionario1.nome} é R${funcionario1.salario:.2f}\")\n",
        "\n",
        "gerente1 = Gerente(\"Guilherme\", 5000.0, \"TI\")\n",
        "print(f\"\\nRelatório do gerente:\")\n",
        "gerente1.relatorio()\n",
        "\n",
        "gerente1.aumentar_salario(15)\n",
        "print(f\"Salário atualizado do gerente {gerente1.nome}: R${gerente1.salario:.2f}\")\n",
        "\n"
      ],
      "metadata": {
        "colab": {
          "base_uri": "https://localhost:8080/"
        },
        "id": "u3_dntB4OhwU",
        "outputId": "c0cfb381-d719-46ee-d7ae-ffdf3fdb3f47"
      },
      "execution_count": 13,
      "outputs": [
        {
          "output_type": "stream",
          "name": "stdout",
          "text": [
            "Funcionário João tem salário inicial de R$3000.00\n",
            "Após aumento, o salário de João é R$3300.00\n",
            "\n",
            "Relatório do gerente:\n",
            "Gerente Maria trabalha no departamento TI e tem salário de R$5000.00\n",
            "Salário atualizado do gerente Maria: R$5750.00\n"
          ]
        }
      ]
    }
  ]
}