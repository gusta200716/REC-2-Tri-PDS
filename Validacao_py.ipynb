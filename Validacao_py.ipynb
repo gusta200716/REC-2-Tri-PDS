{
  "nbformat": 4,
  "nbformat_minor": 0,
  "metadata": {
    "colab": {
      "provenance": []
    },
    "kernelspec": {
      "name": "python3",
      "display_name": "Python 3"
    },
    "language_info": {
      "name": "python"
    }
  },
  "cells": [
    {
      "cell_type": "code",
      "execution_count": 11,
      "metadata": {
        "id": "dRfoE6qsILv3",
        "colab": {
          "base_uri": "https://localhost:8080/"
        },
        "outputId": "1d5a16d3-bb74-42a0-ca87-4c75b785354d"
      },
      "outputs": [
        {
          "output_type": "stream",
          "name": "stdout",
          "text": [
            "True\n",
            "negativo\n",
            "ímpar\n",
            "True\n",
            "True\n",
            "Maria é uma criança\n",
            "True\n",
            "13\n",
            "5\n",
            "True\n"
          ]
        }
      ],
      "source": [
        "class Validacao:\n",
        "    def __init__(self, nome, idade, sexo, numero_da_chamada, serie, ano_colegio, cidade, estado, pais):\n",
        "        self.nome = nome\n",
        "        self.idade = idade\n",
        "        self.sexo = sexo\n",
        "        self.numero_da_chamada = numero_da_chamada\n",
        "        self.serie = serie\n",
        "        self.ano_colegio = ano_colegio\n",
        "        self.cidade = cidade\n",
        "        self.estado = estado\n",
        "        self.pais = pais\n",
        "\n",
        "    def eh_positivo(numero):\n",
        "        return numero > 0\n",
        "\n",
        "    def classifica_numero(numero):\n",
        "        if numero > 0:\n",
        "            return \"positivo\"\n",
        "        elif numero < 0:\n",
        "            return \"negativo\"\n",
        "        else:\n",
        "            return \"zero\"\n",
        "\n",
        "    def eh_par_ou_impar(numero):\n",
        "        if numero % 2 == 0:\n",
        "            return \"par\"\n",
        "        else:\n",
        "            return \"ímpar\"\n",
        "\n",
        "    def eh_primo(numero):\n",
        "        if numero <= 1:\n",
        "            return False\n",
        "        for i in range(2, int(numero**0.5) + 1):\n",
        "            if numero % i == 0:\n",
        "                return False\n",
        "        return True\n",
        "\n",
        "    def valida_idade(idade):\n",
        "        return 0 <= idade <= 100\n",
        "\n",
        "    def classifica_idade(nome, idade):\n",
        "        if idade < 1:\n",
        "            return f\"{nome} é um bebê\"\n",
        "        elif 1 <= idade <= 12:\n",
        "            return f\"{nome} é uma criança\"\n",
        "        elif 13 <= idade <= 17:\n",
        "            return f\"{nome} é um adolescente\"\n",
        "        elif 18 <= idade <= 59:\n",
        "            return f\"{nome} é um adulto\"\n",
        "        else:\n",
        "            return f\"{nome} é um idoso\"\n",
        "\n",
        "    def valida_comprimento_minimo(string):\n",
        "        return len(string) >= 5\n",
        "\n",
        "    def quantidade_caracteres_string(string):\n",
        "        return len(string)\n",
        "\n",
        "    def quantidade_elementos_array(array):\n",
        "        return len(array)\n",
        "\n",
        "    def verifica_intervalo(numero, inicio, fim):\n",
        "        return inicio <= numero <= fim\n",
        "\n",
        "\n",
        "objeto_validacao = Validacao(\"Gustavo\", 17, \"Masculino\", 7, \"3º\", 2024, \"Cruzeiro do Oeste\", \"PR\", \"Brasil\")\n",
        "\n",
        "print(eh_positivo(5))\n",
        "print(classifica_numero(-3))\n",
        "print(eh_par_ou_impar(7))\n",
        "print(eh_primo(11))\n",
        "print(valida_idade(25))\n",
        "print(classifica_idade(\"Maria\", 5))\n",
        "print(valida_comprimento_minimo(\"Python\"))\n",
        "print(quantidade_caracteres_string(\"Olá, tudo bem\"))\n",
        "print(quantidade_elementos_array([1, 2, 3, 4, 5]))\n",
        "print(verifica_intervalo(25, 10, 50))\n",
        "\n"
      ]
    }
  ]
}